{
 "cells": [
  {
   "cell_type": "code",
   "execution_count": 167,
   "metadata": {},
   "outputs": [],
   "source": [
    "import numpy as np\n",
    "import pandas as pd\n",
    "from pprint import pprint\n",
    "import time\n",
    "import datetime\n",
    "import sys\n",
    "import math\n",
    "from matplotlib import pyplot as plt\n",
    "from sklearn.neural_network import MLPClassifier \n",
    "import operator\n",
    "import warnings\n",
    "warnings.filterwarnings(\"ignore\") "
   ]
  },
  {
   "cell_type": "code",
   "execution_count": 168,
   "metadata": {},
   "outputs": [],
   "source": [
    "class costumer:\n",
    "    id=''\n",
    "    purchases={}\n",
    "    ppurchases={}\n",
    "    mean=0\n",
    "    avgmoney=0\n",
    "    tag=''\n",
    "    def __init__(self,id):\n",
    "        self.id=id\n",
    "        self.purchases={}\n",
    "        self.ppurchases={}\n",
    "        self.mean=0\n",
    "        self.avgmoney=0\n",
    "        self.tag=''\n",
    "    def add_purchase(self,date,amount):\n",
    "        self.purchases[date]=amount\n",
    "    def to_time_stamp(self):\n",
    "        for date,amount in self.purchases.items():\n",
    "            if isinstance(date,str):\n",
    "                timestamp=int(time.mktime(datetime.datetime.strptime(str(date),'%m/%d/%Y %H:%M').timetuple()))\n",
    "                self.ppurchases[timestamp]=amount   \n",
    "    def cal_mean(self):\n",
    "        times=list(self.ppurchases.keys())\n",
    "        mintime=times[0]\n",
    "        maxtime=times[-1]\n",
    "        mounthes=int(math.ceil((maxtime-mintime)/2592000))\n",
    "        if mounthes ==0:\n",
    "            mounthes=1\n",
    "        mtimes=[]\n",
    "        ts=0\n",
    "        total=0\n",
    "        while ts < maxtime:\n",
    "            t=0\n",
    "            for time in times:\n",
    "                if time >= ts and time <= ts+2592000 :\n",
    "                    t+=1\n",
    "                total+=self.ppurchases[time]\n",
    "            mtimes.append(t)\n",
    "            ts+=2592000\n",
    "        mean=0\n",
    "        for item in mtimes:\n",
    "            mean+=item\n",
    "        self.mean=int(math.ceil(mean/mounthes))\n",
    "        self.avgmoney=int(math.ceil(total/len(times)))\n",
    "    def add_tag(self):\n",
    "        if self.mean < 3 :\n",
    "            self.tag='less than 3'\n",
    "        elif self.mean < 5 :\n",
    "            self.tag='less than 5'\n",
    "        elif self.mean < 7 :\n",
    "            self.tag='less than 7'\n",
    "        elif self.mean < 10 :\n",
    "            self.tag='less than 10'\n",
    "        elif self.mean < 12 :\n",
    "            self.tag='less than 12'\n",
    "        elif self.mean < 15 :\n",
    "            self.tag='less than 15'\n",
    "        elif self.mean < 15 :\n",
    "            self.tag='less than 17'\n",
    "        else:\n",
    "            self.tag='more than 17'"
   ]
  },
  {
   "cell_type": "code",
   "execution_count": 169,
   "metadata": {},
   "outputs": [],
   "source": [
    "def read_data():\n",
    "    rawdata=pd.read_csv('E:\\\\programming\\\\python\\\\sales_predict\\\\assignment.csv')\n",
    "    dataarray=np.array(rawdata)\n",
    "    return dataarray"
   ]
  },
  {
   "cell_type": "code",
   "execution_count": 170,
   "metadata": {},
   "outputs": [],
   "source": [
    "if __name__ == \"__main__\":\n",
    "    data=read_data()\n",
    "    cids=[]\n",
    "    costumers={}\n",
    "    for item in data:\n",
    "        if (item[1] in cids) == False:\n",
    "            cids.append(item[1])\n",
    "            co=costumer(item[1])\n",
    "            co.add_purchase(item[0],item[2])\n",
    "            costumers[item[1]]=co\n",
    "        else:\n",
    "            co=costumers[item[1]]\n",
    "            co.add_purchase(item[0],item[2])"
   ]
  },
  {
   "cell_type": "code",
   "execution_count": 171,
   "metadata": {},
   "outputs": [],
   "source": [
    "    train=[]\n",
    "    for id,cost in costumers.items():\n",
    "        cost.to_time_stamp()\n",
    "        cost.cal_mean()\n",
    "        cost.add_tag()\n",
    "        train.append((cost.avgmoney,cost.mean,cost.tag))\n",
    "    train.sort(key=operator.itemgetter(0))"
   ]
  },
  {
   "cell_type": "code",
   "execution_count": 172,
   "metadata": {},
   "outputs": [
    {
     "data": {
      "image/png": "[encoded data removed]",
      "text/plain": [
       "<Figure size 432x288 with 1 Axes>"
      ]
     },
     "metadata": {
      "needs_background": "light"
     },
     "output_type": "display_data"
    }
   ],
   "source": [
    "    train_x=[]\n",
    "    train_y=[]\n",
    "    train_tag=[]\n",
    "    for item in train:\n",
    "        train_x.append([item[0]])\n",
    "        train_y.append([item[1]])\n",
    "        train_tag.append([item[2]])\n",
    "    plt.plot(train_x,train_y)\n",
    "    plt.title('Spend money - purchase Times per mounth')\n",
    "    plt.ylabel('purchase Times per mounth')\n",
    "    plt.xlabel('Spend money')\n",
    "    plt.show()"
   ]
  },
  {
   "cell_type": "code",
   "execution_count": 173,
   "metadata": {},
   "outputs": [
    {
     "data": {
      "text/plain": [
       "MLPClassifier(activation='relu', alpha=1e-05, batch_size='auto', beta_1=0.9,\n",
       "       beta_2=0.999, early_stopping=False, epsilon=1e-08,\n",
       "       hidden_layer_sizes=(200,), learning_rate='constant',\n",
       "       learning_rate_init=0.001, max_iter=200, momentum=0.9,\n",
       "       n_iter_no_change=10, nesterovs_momentum=True, power_t=0.5,\n",
       "       random_state=None, shuffle=True, solver='lbfgs', tol=0.0001,\n",
       "       validation_fraction=0.1, verbose=False, warm_start=False)"
      ]
     },
     "execution_count": 173,
     "metadata": {},
     "output_type": "execute_result"
    }
   ],
   "source": [
    "    clf=MLPClassifier(solver='lbfgs',alpha=1e-5,hidden_layer_sizes=(200,))\n",
    "    clf.fit(train_x,train_tag)"
   ]
  },
  {
   "cell_type": "code",
   "execution_count": 174,
   "metadata": {},
   "outputs": [
    {
     "name": "stdout",
     "output_type": "stream",
     "text": [
      "Please insert the Spend amount in euroes :\n",
      "80000\n",
      "this customer will purchase more than 17 times per mounth\n"
     ]
    }
   ],
   "source": [
    "    print(\"Please insert the Spend amount in euroes :\")\n",
    "    money=int(input())\n",
    "    money=np.matrix(money)\n",
    "    y_pred = clf.predict(money)  \n",
    "    print('this customer will purchase {0} times per mounth'.format(y_pred[0]))"
   ]
  }
 ],
 "metadata": {
  "kernelspec": {
   "display_name": "Python 3",
   "language": "python",
   "name": "python3"
  },
  "language_info": {
   "codemirror_mode": {
    "name": "ipython",
    "version": 3
   },
   "file_extension": ".py",
   "mimetype": "text/x-python",
   "name": "python",
   "nbconvert_exporter": "python",
   "pygments_lexer": "ipython3",
   "version": "3.7.3"
  }
 },
 "nbformat": 4,
 "nbformat_minor": 2
}
